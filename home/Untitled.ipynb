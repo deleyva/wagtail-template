{
 "cells": [
  {
   "cell_type": "code",
   "execution_count": 1,
   "id": "a1092408-2686-459d-b5ab-69dd474e1da0",
   "metadata": {},
   "outputs": [],
   "source": [
    "from django.conf import settings\n"
   ]
  },
  {
   "cell_type": "code",
   "execution_count": 2,
   "id": "8bd1a0d5-9478-4f1e-b0be-45a6f926af4d",
   "metadata": {},
   "outputs": [
    {
     "data": {
      "text/plain": [
       "['home',\n",
       " 'search',\n",
       " 'wagtail.contrib.forms',\n",
       " 'wagtail.contrib.redirects',\n",
       " 'wagtail.embeds',\n",
       " 'wagtail.sites',\n",
       " 'wagtail.users',\n",
       " 'wagtail.snippets',\n",
       " 'wagtail.documents',\n",
       " 'wagtail.images',\n",
       " 'wagtail.search',\n",
       " 'wagtail.admin',\n",
       " 'wagtail.core',\n",
       " 'wagtail.contrib.modeladmin',\n",
       " 'modelcluster',\n",
       " 'taggit',\n",
       " 'django.contrib.admin',\n",
       " 'django.contrib.auth',\n",
       " 'django.contrib.contenttypes',\n",
       " 'django.contrib.sessions',\n",
       " 'django.contrib.messages',\n",
       " 'django.contrib.staticfiles',\n",
       " 'wagtailmenus',\n",
       " 'django_celery_results',\n",
       " 'debug_toolbar',\n",
       " 'django_extensions']"
      ]
     },
     "execution_count": 2,
     "metadata": {},
     "output_type": "execute_result"
    }
   ],
   "source": [
    "settings.INSTALLED_APPS"
   ]
  },
  {
   "cell_type": "code",
   "execution_count": 3,
   "id": "a78492ce-bb39-4465-8af8-e89215fb56b5",
   "metadata": {},
   "outputs": [
    {
     "data": {
      "text/plain": [
       "<AsyncResult: d07f0fb9-489a-48ec-bfb0-bb3df5815d00>"
      ]
     },
     "execution_count": 3,
     "metadata": {},
     "output_type": "execute_result"
    }
   ],
   "source": [
    "from home.tasks import count_hompage\n",
    "\n",
    "count_hompage.delay()"
   ]
  },
  {
   "cell_type": "code",
   "execution_count": null,
   "id": "e1ddb5f2-8303-4ab2-92e2-7836def724dc",
   "metadata": {},
   "outputs": [],
   "source": []
  }
 ],
 "metadata": {
  "kernelspec": {
   "display_name": "Django Shell-Plus",
   "language": "python",
   "name": "django_extensions"
  },
  "language_info": {
   "codemirror_mode": {
    "name": "ipython",
    "version": 3
   },
   "file_extension": ".py",
   "mimetype": "text/x-python",
   "name": "python",
   "nbconvert_exporter": "python",
   "pygments_lexer": "ipython3",
   "version": "3.8.5"
  }
 },
 "nbformat": 4,
 "nbformat_minor": 5
}
