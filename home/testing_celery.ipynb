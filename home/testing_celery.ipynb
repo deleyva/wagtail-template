{
 "cells": [
  {
   "cell_type": "code",
   "execution_count": 18,
   "id": "a1092408-2686-459d-b5ab-69dd474e1da0",
   "metadata": {},
   "outputs": [
    {
     "data": {
      "text/plain": [
       "<LazySettings \"project_conf.settings.dev\">"
      ]
     },
     "execution_count": 18,
     "metadata": {},
     "output_type": "execute_result"
    }
   ],
   "source": [
    "from django.conf import settings"
   ]
  },
  {
   "cell_type": "code",
   "execution_count": 5,
   "id": "a78492ce-bb39-4465-8af8-e89215fb56b5",
   "metadata": {},
   "outputs": [
    {
     "data": {
      "text/plain": [
       "<AsyncResult: 50c913e8-d542-4891-8585-e012e222ccbe>"
      ]
     },
     "execution_count": 5,
     "metadata": {},
     "output_type": "execute_result"
    }
   ],
   "source": [
    "from home.tasks import count_hompage\n",
    "\n",
    "count_hompage.delay()"
   ]
  },
  {
   "cell_type": "code",
   "execution_count": 10,
   "id": "e1ddb5f2-8303-4ab2-92e2-7836def724dc",
   "metadata": {},
   "outputs": [
    {
     "data": {
      "text/plain": [
       "<AsyncResult: 2e5e4f48-3593-48dc-b513-6621db9f9d00>"
      ]
     },
     "execution_count": 10,
     "metadata": {},
     "output_type": "execute_result"
    }
   ],
   "source": [
    "count_hompage.apply_async(countdown=10)"
   ]
  },
  {
   "cell_type": "code",
   "execution_count": 12,
   "id": "6963057f-07ec-4359-aac0-377a0139ba67",
   "metadata": {},
   "outputs": [
    {
     "data": {
      "text/plain": [
       "'2e5e4f48-3593-48dc-b513-6621db9f9d00'"
      ]
     },
     "execution_count": 12,
     "metadata": {},
     "output_type": "execute_result"
    }
   ],
   "source": [
    "_.id"
   ]
  },
  {
   "cell_type": "code",
   "execution_count": 8,
   "id": "18b406c8-70c4-43c2-8581-6257231d8bbf",
   "metadata": {},
   "outputs": [
    {
     "data": {
      "text/plain": [
       "datetime.timedelta(seconds=5)"
      ]
     },
     "execution_count": 8,
     "metadata": {},
     "output_type": "execute_result"
    }
   ],
   "source": [
    "from django.utils.timezone import localtime, timedelta\n",
    "\n",
    "timedelta(seconds=5)"
   ]
  },
  {
   "cell_type": "code",
   "execution_count": 14,
   "id": "c2d5ac86-8613-4bee-b32f-b09370e7accf",
   "metadata": {},
   "outputs": [],
   "source": [
    "import os"
   ]
  },
  {
   "cell_type": "code",
   "execution_count": 26,
   "id": "8e250ea5-9ab5-447b-84ac-7ea199e8dba5",
   "metadata": {},
   "outputs": [],
   "source": [
    "\"dev\" if os.environ.get(\"SETTINGS_SELECTION\") == \"dev\" or "
   ]
  },
  {
   "cell_type": "code",
   "execution_count": 22,
   "id": "b6dee8af-546a-4591-8201-e3300057c68d",
   "metadata": {},
   "outputs": [
    {
     "data": {
      "text/plain": [
       "True"
      ]
     },
     "execution_count": 22,
     "metadata": {},
     "output_type": "execute_result"
    }
   ],
   "source": [
    "settings.DEBUG"
   ]
  },
  {
   "cell_type": "code",
   "execution_count": null,
   "id": "940cec04-35de-4ac2-acf4-9715e8b8b291",
   "metadata": {},
   "outputs": [],
   "source": []
  }
 ],
 "metadata": {
  "kernelspec": {
   "display_name": "Django Shell-Plus",
   "language": "python",
   "name": "django_extensions"
  },
  "language_info": {
   "codemirror_mode": {
    "name": "ipython",
    "version": 3
   },
   "file_extension": ".py",
   "mimetype": "text/x-python",
   "name": "python",
   "nbconvert_exporter": "python",
   "pygments_lexer": "ipython3",
   "version": "3.9.1"
  }
 },
 "nbformat": 4,
 "nbformat_minor": 5
}
